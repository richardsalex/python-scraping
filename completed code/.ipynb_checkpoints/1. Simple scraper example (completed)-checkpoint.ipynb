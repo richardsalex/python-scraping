{
 "cells": [
  {
   "cell_type": "markdown",
   "metadata": {
    "collapsed": true
   },
   "source": [
    "## Scraping basics\n",
    "\n",
    "Code-free tools for data harvesting are handy in a pinch, but scripts written in Python or another language are more flexible and adaptable. They can also run automatically in the background on a schedule. Also, you don't have to worry about a service or a tool ever disappearing, making all your hard work for naught.\n",
    "\n",
    "This exercise uses a simple HTML table as an example before trying a live site."
   ]
  },
  {
   "cell_type": "markdown",
   "metadata": {},
   "source": [
    "### Import the necessary modules"
   ]
  },
  {
   "cell_type": "code",
   "execution_count": 1,
   "metadata": {},
   "outputs": [],
   "source": [
    "# we need BeautifulSoup from bs4 and csv\n",
    "from bs4 import BeautifulSoup\n",
    "import csv"
   ]
  },
  {
   "cell_type": "markdown",
   "metadata": {},
   "source": [
    "### Load the HTML file and parse it with `BeautifulSoup`\n",
    "We can handle this in a combined step. \n",
    "```python\n",
    "with open('/path/to/some/file.html', 'r') as our_file:\n",
    "    soup = BeautifulSoup(our_file, 'html.parser')```"
   ]
  },
  {
   "cell_type": "code",
   "execution_count": 2,
   "metadata": {},
   "outputs": [],
   "source": [
    "# open the sample HTML file and parse it with BeautifulSoup\n",
    "with open('simple_table.html', 'r') as our_file:\n",
    "    soup = BeautifulSoup(our_file, 'html.parser')"
   ]
  },
  {
   "cell_type": "markdown",
   "metadata": {},
   "source": [
    "### Let's see what we're working with\n",
    "Chances are, you've worked with data types like strings, integers, etc., in Python. `BeautifulSoup` makes HTML navigable because it does something a little bit different."
   ]
  },
  {
   "cell_type": "code",
   "execution_count": 3,
   "metadata": {},
   "outputs": [
    {
     "name": "stdout",
     "output_type": "stream",
     "text": [
      "<!DOCTYPE html>\n",
      "\n",
      "<html lang=\"en\">\n",
      "<body>\n",
      "<table border=\"1px solid black\">\n",
      "<tr>\n",
      "<th>Name</th>\n",
      "<th>Age</th>\n",
      "<th>Location</th>\n",
      "</tr>\n",
      "<tr>\n",
      "<td>John Smith</td>\n",
      "<td>42</td>\n",
      "<td>Miami</td>\n",
      "</tr>\n",
      "<tr>\n",
      "<td>Jane Lindey</td>\n",
      "<td>70</td>\n",
      "<td>Fresno</td>\n",
      "</tr>\n",
      "<tr>\n",
      "<td>Beth Green</td>\n",
      "<td>22</td>\n",
      "<td>Des Moines</td>\n",
      "</tr>\n",
      "<tr>\n",
      "<td>Paul Johnson</td>\n",
      "<td>35</td>\n",
      "<td>Chicago</td>\n",
      "</tr>\n",
      "<tr>\n",
      "<td>Lisa Perez</td>\n",
      "<td>65</td>\n",
      "<td>Las Vegas</td>\n",
      "</tr>\n",
      "</table>\n",
      "</body>\n",
      "</html>\n",
      "<class 'bs4.BeautifulSoup'>\n"
     ]
    }
   ],
   "source": [
    "# try printing soup and checking its type\n",
    "print(soup)\n",
    "print(type(soup))"
   ]
  },
  {
   "cell_type": "markdown",
   "metadata": {},
   "source": [
    "### Target the data\n",
    "\n",
    "Two key ways (among many) to zero in on specific sections of the web page in question with the `BeautifulSoup` package:\n",
    "```python\n",
    "soup.find('some HTML tag')\n",
    "# returns only the FIRST tag (like a \"div,\" \"span\" or \"table\") that matches\n",
    "\n",
    "soup.find_all('some HTML tag')\n",
    "# returns a list of ALL tags that match\n",
    "```\n",
    "\n",
    "(`BeautifulSoup` also has [detailed documentation](https://www.crummy.com/software/BeautifulSoup/bs4/doc/) for the varied ways in which it can parse HTML and XML in a number of effective ways.)"
   ]
  },
  {
   "cell_type": "code",
   "execution_count": 4,
   "metadata": {},
   "outputs": [
    {
     "name": "stdout",
     "output_type": "stream",
     "text": [
      "<table border=\"1px solid black\">\n",
      "<tr>\n",
      "<th>Name</th>\n",
      "<th>Age</th>\n",
      "<th>Location</th>\n",
      "</tr>\n",
      "<tr>\n",
      "<td>John Smith</td>\n",
      "<td>42</td>\n",
      "<td>Miami</td>\n",
      "</tr>\n",
      "<tr>\n",
      "<td>Jane Lindey</td>\n",
      "<td>70</td>\n",
      "<td>Fresno</td>\n",
      "</tr>\n",
      "<tr>\n",
      "<td>Beth Green</td>\n",
      "<td>22</td>\n",
      "<td>Des Moines</td>\n",
      "</tr>\n",
      "<tr>\n",
      "<td>Paul Johnson</td>\n",
      "<td>35</td>\n",
      "<td>Chicago</td>\n",
      "</tr>\n",
      "<tr>\n",
      "<td>Lisa Perez</td>\n",
      "<td>65</td>\n",
      "<td>Las Vegas</td>\n",
      "</tr>\n",
      "</table>\n"
     ]
    }
   ],
   "source": [
    "# snip out the table and pass it to a new variable\n",
    "tbl = soup.find('table')\n",
    "print(tbl)"
   ]
  },
  {
   "cell_type": "code",
   "execution_count": 5,
   "metadata": {},
   "outputs": [
    {
     "name": "stdout",
     "output_type": "stream",
     "text": [
      "[<tr>\n",
      "<th>Name</th>\n",
      "<th>Age</th>\n",
      "<th>Location</th>\n",
      "</tr>, <tr>\n",
      "<td>John Smith</td>\n",
      "<td>42</td>\n",
      "<td>Miami</td>\n",
      "</tr>, <tr>\n",
      "<td>Jane Lindey</td>\n",
      "<td>70</td>\n",
      "<td>Fresno</td>\n",
      "</tr>, <tr>\n",
      "<td>Beth Green</td>\n",
      "<td>22</td>\n",
      "<td>Des Moines</td>\n",
      "</tr>, <tr>\n",
      "<td>Paul Johnson</td>\n",
      "<td>35</td>\n",
      "<td>Chicago</td>\n",
      "</tr>, <tr>\n",
      "<td>Lisa Perez</td>\n",
      "<td>65</td>\n",
      "<td>Las Vegas</td>\n",
      "</tr>]\n"
     ]
    }
   ],
   "source": [
    "# use the find_all method to create a list of rows in the table\n",
    "tbl_rows = tbl.find_all('tr')\n",
    "print(tbl_rows)"
   ]
  },
  {
   "cell_type": "code",
   "execution_count": 6,
   "metadata": {},
   "outputs": [
    {
     "name": "stdout",
     "output_type": "stream",
     "text": [
      "<tr>\n",
      "<td>John Smith</td>\n",
      "<td>42</td>\n",
      "<td>Miami</td>\n",
      "</tr>\n"
     ]
    }
   ],
   "source": [
    "# isolate the second row and print it\n",
    "print(tbl_rows[1])"
   ]
  },
  {
   "cell_type": "code",
   "execution_count": 7,
   "metadata": {},
   "outputs": [
    {
     "name": "stdout",
     "output_type": "stream",
     "text": [
      "[<td>John Smith</td>, <td>42</td>, <td>Miami</td>]\n"
     ]
    }
   ],
   "source": [
    "# use .find_all again to generate a list of the row's cells and return it\n",
    "example_row = tbl_rows[1]\n",
    "cells = example_row.find_all('td')\n",
    "print(cells)"
   ]
  },
  {
   "cell_type": "markdown",
   "metadata": {},
   "source": [
    "`BeautifulSoup` lets you fetch text from within HTML tags:\n",
    "```python\n",
    "soup.text\n",
    "# returns the text in a tag as a string\n",
    "```"
   ]
  },
  {
   "cell_type": "code",
   "execution_count": 8,
   "metadata": {},
   "outputs": [
    {
     "name": "stdout",
     "output_type": "stream",
     "text": [
      "<td>John Smith</td>\n",
      "John Smith\n"
     ]
    }
   ],
   "source": [
    "# print the first item in cells, then try printing what .text can extract from the same thing\n",
    "print(cells[0])\n",
    "print(cells[0].text)"
   ]
  },
  {
   "cell_type": "markdown",
   "metadata": {},
   "source": [
    "### Extract the data\n",
    "\n",
    "OK, now for the tricky part. We need to create the list of rows in the table and then extract the text contents of each cell. We'll set up an empty list beforehand and append each row of extracted data to it as its own list."
   ]
  },
  {
   "cell_type": "code",
   "execution_count": 9,
   "metadata": {},
   "outputs": [],
   "source": [
    "# make an empty list to hold extracted data\n",
    "table_data = []\n",
    "\n",
    "# loop through rows, and then each cell in each row, returning a list of extracted text\n",
    "for row in tbl.find_all('tr'):\n",
    "    cells = row.find_all(['th', 'td'])\n",
    "    table_data.append([cells[0].text, cells[1].text, cells[2].text])"
   ]
  },
  {
   "cell_type": "markdown",
   "metadata": {},
   "source": [
    "### Let's check our work\n",
    "Did we get a list of lists like we'd expect?"
   ]
  },
  {
   "cell_type": "code",
   "execution_count": 10,
   "metadata": {},
   "outputs": [
    {
     "name": "stdout",
     "output_type": "stream",
     "text": [
      "[['Name', 'Age', 'Location'], ['John Smith', '42', 'Miami'], ['Jane Lindey', '70', 'Fresno'], ['Beth Green', '22', 'Des Moines'], ['Paul Johnson', '35', 'Chicago'], ['Lisa Perez', '65', 'Las Vegas']]\n"
     ]
    }
   ],
   "source": [
    "# print table_data\n",
    "print(table_data)"
   ]
  },
  {
   "cell_type": "markdown",
   "metadata": {},
   "source": [
    "### Now write the data to CSV\n",
    "We're going to use a process similar to the one we used to read the HTML file. The basic syntax to know for Python's `csv` package:\n",
    "\n",
    "```python\n",
    "writer_obj = csv.writer('some file we opened')\n",
    "# make a writer object that can move information from your script to a file in CSV form\n",
    "\n",
    "writer_obj.writerow('some list of strings')\n",
    "# write a single row\n",
    "\n",
    "writer_obj.writerows('some list of lists of strings')\n",
    "# write a bunch of rows\n",
    "```\n",
    "\n",
    "Check out [the documentation](https://docs.python.org/3.6/library/csv.html) for more examples of how it all works."
   ]
  },
  {
   "cell_type": "code",
   "execution_count": 11,
   "metadata": {},
   "outputs": [],
   "source": [
    "# open a file and write our data to it\n",
    "with open('simple.csv', 'w') as outfile:\n",
    "    writer = csv.writer(outfile)\n",
    "    writer.writerows(table_data)"
   ]
  }
 ],
 "metadata": {
  "kernelspec": {
   "display_name": "Python 3",
   "language": "python",
   "name": "python3"
  },
  "language_info": {
   "codemirror_mode": {
    "name": "ipython",
    "version": 3
   },
   "file_extension": ".py",
   "mimetype": "text/x-python",
   "name": "python",
   "nbconvert_exporter": "python",
   "pygments_lexer": "ipython3",
   "version": "3.6.4"
  }
 },
 "nbformat": 4,
 "nbformat_minor": 2
}
